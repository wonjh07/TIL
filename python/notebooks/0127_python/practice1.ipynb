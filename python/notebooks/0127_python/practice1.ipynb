{
 "cells": [
  {
   "cell_type": "markdown",
   "metadata": {},
   "source": [
    "# Practice 1\n",
    "\n",
    "> OOP(Object-Oriented-Programming)"
   ]
  },
  {
   "cell_type": "markdown",
   "metadata": {},
   "source": [
    "## Doggy\n",
    "\n",
    "> 개의 속성과 행위를 정의하는 Doggy 클래스 만들기\n",
    "\n",
    "**구성 요소**\n",
    "1. 초기화 메서드는 인자로 개의 이름과 견종을 받아서 인스턴스 변수에 할당한다.\n",
    "2. 클래스 변수는 태어난 개의 숫자와 현재 있는 개의 숫자를 기록하는 변수로 구성한다.\n",
    "     - 개가 태어나면 `num_of_dogs`와 `birth_of_dogs`의 값이 각 1씩 증가한다.\n",
    "     - 개가 죽으면 `num_of_dogs`의 값이 1 감소한다.\n",
    "3. 개는 각자의 이름과 나이가 있다.\n",
    "3. `bark()` 메서드를 호출하면 개는 짖을 수 있다.\n",
    "4. `get_status()` 메서드를 호출하면 `birth_of_dogs`와 `num_of_dogs`의 수를 출력할 수 있다.\n",
    "\n",
    "---\n",
    "\n",
    "예시)\n",
    "\n",
    "```python\n",
    "d1 = Doggy('초코', '푸들')\n",
    "d2 = Doggy('꽁이', '말티즈')\n",
    "d3 = Doggy('별이', '시츄')\n",
    "\n",
    "d1.bark() #=> 왈왈!\n",
    "d2.bark() #=> 왈왈!\n",
    "d3.bark() #=> 왈왈!\n",
    "\n",
    "Doggy.get_status() #=> Birth: 3, Current: 3\n",
    "```"
   ]
  },
  {
   "cell_type": "code",
   "execution_count": 173,
   "metadata": {},
   "outputs": [],
   "source": [
    "class Doggy:\n",
    "    num_of_dogs = 0\n",
    "    birth_of_dogs = 0\n",
    "\n",
    "    def __init__(self, name, species, age=0):\n",
    "        Doggy.num_of_dogs += 1\n",
    "        Doggy.birth_of_dogs += 1\n",
    "        self.name = name\n",
    "        self.species = species\n",
    "        self.age = age\n",
    "    \n",
    "    def bark(self):\n",
    "        print('왈왈!')\n",
    "        \n",
    "    def passed(self):\n",
    "        print(f'{self.name}은(는) 무지개다리를 건넜습니다')\n",
    "        Doggy.num_of_dogs -= 1\n",
    "        del(self)\n",
    "        Doggy.get_status()\n",
    "        \n",
    "    def __str__(self):\n",
    "        return f'나는 {self.name} {self.age}살 견종은 {self.species}입니다'\n",
    "        \n",
    "    @classmethod\n",
    "    def get_status(cls):\n",
    "        print(f'Birth: {Doggy.birth_of_dogs}, Current: {Doggy.num_of_dogs}')"
   ]
  },
  {
   "cell_type": "code",
   "execution_count": 174,
   "metadata": {},
   "outputs": [
    {
     "name": "stdout",
     "output_type": "stream",
     "text": [
      "왈왈!\n",
      "왈왈!\n",
      "왈왈!\n",
      "Birth: 3, Current: 3\n",
      "나는 초코 0살 견종은 푸들입니다\n",
      "나는 꽁이 0살 견종은 말티즈입니다\n",
      "나는 별이 0살 견종은 시츄입니다\n",
      "별이은(는) 무지개다리를 건넜습니다\n",
      "Birth: 3, Current: 2\n"
     ]
    }
   ],
   "source": [
    "# 해당 코드를 통해 올바른 결과가 나오는지 확인하시오.\n",
    "d1 = Doggy('초코', '푸들')\n",
    "d2 = Doggy('꽁이', '말티즈')\n",
    "d3 = Doggy('별이', '시츄')\n",
    "\n",
    "d1.bark()\n",
    "d2.bark()\n",
    "d3.bark()\n",
    "\n",
    "Doggy.get_status()\n",
    "\n",
    "print(d1)\n",
    "print(d2)\n",
    "print(d3)\n",
    "\n",
    "d3.passed()"
   ]
  }
 ],
 "metadata": {
  "kernelspec": {
   "display_name": "Python 3 (ipykernel)",
   "language": "python",
   "name": "python3"
  },
  "language_info": {
   "codemirror_mode": {
    "name": "ipython",
    "version": 3
   },
   "file_extension": ".py",
   "mimetype": "text/x-python",
   "name": "python",
   "nbconvert_exporter": "python",
   "pygments_lexer": "ipython3",
   "version": "3.9.9"
  },
  "toc": {
   "base_numbering": 1,
   "nav_menu": {},
   "number_sections": true,
   "sideBar": true,
   "skip_h1_title": false,
   "title_cell": "Table of Contents",
   "title_sidebar": "Contents",
   "toc_cell": false,
   "toc_position": {},
   "toc_section_display": true,
   "toc_window_display": false
  }
 },
 "nbformat": 4,
 "nbformat_minor": 4
}
