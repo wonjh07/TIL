{
 "cells": [
  {
   "cell_type": "markdown",
   "id": "regional-interval",
   "metadata": {},
   "source": [
    "# Pokemon (선택)\n",
    "\n",
    "> OOP(Object-Oriented-Programming)"
   ]
  },
  {
   "cell_type": "markdown",
   "id": "economic-holly",
   "metadata": {},
   "source": [
    "## 포켓몬\n",
    "\n",
    "> 피카츄를 클래스-인스턴스로 구현하세요.\n",
    ">\n",
    "> 게임을 만든다면 아래와 같이 먼저 기획을 하고 코드로 구현하게 됩니다.\n",
    ">\n",
    "> 우선 아래와 같이 구현해 보고, 추가로 앞서 배운 모든 지식을 활용하여 본인이 원하는 대로 구현 및 수정하세요.\n",
    ">\n",
    "> (선택적 도전과제: 랜덤 모듈, 조건문 그리고 반복문 등을 활용하여 전투를 구현해보세요.)\n",
    "---\n",
    "\n",
    "피카츄를 예시로 \n",
    "\n",
    "**모든** 피카츄는 다음과 같은 속성을 갖습니다. \n",
    "* `name`: 이름\n",
    "\n",
    "\n",
    "* `level`: 레벨\n",
    "    * 레벨은 시작할 때 모두 5 입니다.\n",
    "    \n",
    "    \n",
    "* `hp`: 체력\n",
    "    * 체력은 `level` * 20 입니다.\n",
    "    \n",
    "    \n",
    "* `exp`: 경험치\n",
    "    * 상대방을 쓰러뜨리면 상대방 `level` * 15 를 획득합니다.\n",
    "    * 경험치는 `level` * 100 이 되면, 레벨이 하나 올라가고 0부터 추가 됩니다. \n",
    "\n",
    "**모든** 피카츄는 다음과 같은 행동(메서드)을 할 수 있습니다.\n",
    "\n",
    "\n",
    "* `bark()`: 울기. `'pikachu'` 를 출력합니다.\n",
    "\n",
    "\n",
    "* `body_attack()`: 몸통박치기. 상대방의 hp 를 내 `level` * 5 만큼 차감합니다.\n",
    "\n",
    "\n",
    "* `thousond_volt()`: 십만볼트. 상대방의 hp 를 내 `level` * 7 만큼 차감합니다."
   ]
  },
  {
   "cell_type": "code",
   "execution_count": 139,
   "id": "binding-optics",
   "metadata": {},
   "outputs": [],
   "source": [
    "import random\n",
    "\n",
    "\n",
    "class pokemon:\n",
    "    def __init__(self, name, level=5):\n",
    "        self.name = name\n",
    "        self.level = level\n",
    "        self.hp = level * 20\n",
    "        self.exp = 0\n",
    "    \n",
    "    def bark(self):\n",
    "        print('pikachu')\n",
    "    \n",
    "    def level_setting(self):\n",
    "        while 1:\n",
    "            if self.exp >= self.level * 100:\n",
    "                self.exp -= self.level * 100\n",
    "                self.level += 1\n",
    "                print(f'{self.name}의 level이 {self.level}이 되었습니다!')\n",
    "                print(f'현재 경험치 {self.exp}')\n",
    "            else:\n",
    "                break\n",
    "        return\n",
    "    \n",
    "    def get_exp(self, enemy):\n",
    "        self.exp += enemy.level * 15\n",
    "        self.level_setting()\n",
    "        return\n",
    "    \n",
    "    def kill(self, enemy):\n",
    "        print(f'{enemy.name} 가 쓰러졌습니다! 경험치 {enemy.level * 15}를 획득합니다! ')\n",
    "        self.get_exp(enemy)\n",
    "        \n",
    "    def attack(self, enemy):\n",
    "        if random.randint(0, 1):\n",
    "            self.body_attack(enemy)\n",
    "        else:\n",
    "            self.thousand_volt(enemy)\n",
    "    \n",
    "    def body_attack(self, enemy):\n",
    "        og_hp = enemy.hp\n",
    "        enemy.hp -= self.level * 5\n",
    "        print(f'{self.name}! {enemy.name} 에게 몸통박치기!')\n",
    "        \n",
    "        if enemy.hp <= 0:\n",
    "            self.kill(enemy)\n",
    "        else:\n",
    "            print(f'{enemy.name} 의 체력이 {og_hp} 에서 {enemy.hp} 로 {self.level * 5} 감소했습니다')\n",
    "\n",
    "    def thousand_volt(self, enemy):\n",
    "        og_hp = enemy.hp\n",
    "        enemy.hp -= self.level * 7\n",
    "        print(f'{self.name}! {enemy.name} 에게 천만볼트!')\n",
    "        if enemy.hp <= 0:\n",
    "            self.kill(enemy)\n",
    "        else:\n",
    "            print(f'{enemy.name} 의 체력이 {og_hp} 에서 {enemy.hp} 로 {self.level * 7} 감소했습니다')\n",
    "    \n",
    "    def battle(self, enemy):\n",
    "        if random.randint(0, 1):\n",
    "            a, b = self, enemy\n",
    "        else:\n",
    "            a, b = enemy, self\n",
    "        while a.hp > 0 and b.hp > 0:\n",
    "            a.attack(b)\n",
    "            if a.hp <= 0 or b.hp <= 0:\n",
    "                break\n",
    "            b.attack(a)"
   ]
  },
  {
   "cell_type": "code",
   "execution_count": 146,
   "id": "constitutional-eleven",
   "metadata": {},
   "outputs": [
    {
     "ename": "AttributeError",
     "evalue": "'pokemon' object has no attribute 'skill'",
     "output_type": "error",
     "traceback": [
      "\u001b[0;31m---------------------------------------------------------------------------\u001b[0m",
      "\u001b[0;31mAttributeError\u001b[0m                            Traceback (most recent call last)",
      "Input \u001b[0;32mIn [146]\u001b[0m, in \u001b[0;36m<module>\u001b[0;34m\u001b[0m\n\u001b[1;32m      2\u001b[0m p1 \u001b[38;5;241m=\u001b[39m pokemon(\u001b[38;5;124m'\u001b[39m\u001b[38;5;124mpikachu\u001b[39m\u001b[38;5;124m'\u001b[39m)\n\u001b[1;32m      3\u001b[0m skill \u001b[38;5;241m=\u001b[39m \u001b[38;5;124m'\u001b[39m\u001b[38;5;124mbark\u001b[39m\u001b[38;5;124m'\u001b[39m\n\u001b[0;32m----> 5\u001b[0m \u001b[43mp1\u001b[49m\u001b[38;5;241;43m.\u001b[39;49m\u001b[43mskill\u001b[49m()\n",
      "\u001b[0;31mAttributeError\u001b[0m: 'pokemon' object has no attribute 'skill'"
     ]
    }
   ],
   "source": [
    "# (선택적 도전과제) 전투 코드 예시\n",
    "p1 = pokemon('pikachu')\n",
    "skill = 'bark'\n",
    "\n",
    "p1.skill()\n"
   ]
  },
  {
   "cell_type": "code",
   "execution_count": 140,
   "id": "impossible-fiction",
   "metadata": {},
   "outputs": [
    {
     "name": "stdout",
     "output_type": "stream",
     "text": [
      "pikachu\n",
      "pikachu! kkobugi 에게 몸통박치기!\n",
      "kkobugi 의 체력이 100 에서 75 로 25 감소했습니다\n",
      "kkobugi! pikachu 에게 천만볼트!\n",
      "pikachu 의 체력이 100 에서 65 로 35 감소했습니다\n",
      "pikachu! kkobugi 에게 몸통박치기!\n",
      "kkobugi 의 체력이 75 에서 50 로 25 감소했습니다\n",
      "kkobugi! pikachu 에게 몸통박치기!\n",
      "pikachu 의 체력이 65 에서 40 로 25 감소했습니다\n",
      "pikachu! kkobugi 에게 천만볼트!\n",
      "kkobugi 의 체력이 50 에서 15 로 35 감소했습니다\n",
      "kkobugi! pikachu 에게 몸통박치기!\n",
      "pikachu 의 체력이 40 에서 15 로 25 감소했습니다\n",
      "pikachu! kkobugi 에게 몸통박치기!\n",
      "kkobugi 가 쓰러졌습니다! 경험치 75를 획득합니다! \n"
     ]
    }
   ],
   "source": [
    "p1 = pokemon('pikachu')\n",
    "p2 = pokemon('kkobugi')\n",
    "p1.bark()\n",
    "\n",
    "p1.battle(p2)"
   ]
  }
 ],
 "metadata": {
  "kernelspec": {
   "display_name": "Python 3 (ipykernel)",
   "language": "python",
   "name": "python3"
  },
  "language_info": {
   "codemirror_mode": {
    "name": "ipython",
    "version": 3
   },
   "file_extension": ".py",
   "mimetype": "text/x-python",
   "name": "python",
   "nbconvert_exporter": "python",
   "pygments_lexer": "ipython3",
   "version": "3.9.9"
  },
  "toc": {
   "base_numbering": 1,
   "nav_menu": {},
   "number_sections": true,
   "sideBar": true,
   "skip_h1_title": false,
   "title_cell": "Table of Contents",
   "title_sidebar": "Contents",
   "toc_cell": false,
   "toc_position": {},
   "toc_section_display": true,
   "toc_window_display": false
  }
 },
 "nbformat": 4,
 "nbformat_minor": 5
}
