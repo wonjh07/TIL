{
 "cells": [
  {
   "cell_type": "markdown",
   "id": "coupled-satisfaction",
   "metadata": {},
   "source": [
    "# Hangman (선택)\n",
    "\n",
    "> OOP(Object-Oriented-Programming)\n"
   ]
  },
  {
   "cell_type": "markdown",
   "id": "silent-excuse",
   "metadata": {},
   "source": [
    "## 행맨 소개\n",
    "\n",
    "> 아래 주어진 요구사항을 만족하는 행맨 게임을 구현합니다.\n",
    ">\n",
    "> 행맨 게임이 처음이라면 아래 `게임 설명`과 `플레이 해보기`를 참고해보세요.\n",
    "\n",
    "- [게임 설명](https://namu.wiki/w/%ED%96%89%EB%A7%A8)\n",
    "- [플레이 해보기](https://www.gamestolearnenglish.com/hangman/)\n",
    "---"
   ]
  },
  {
   "cell_type": "markdown",
   "id": "proved-reward",
   "metadata": {},
   "source": [
    "## 요구사항\n",
    "\n",
    "### 게임 시작\n",
    "\n",
    "게임을 시작하면 아래와 같은 화면이 출력됩니다.\n",
    "\n",
    "**출력 화면에는 3가지 정보가 출력됩니다.**\n",
    "\n",
    "1. 현재 유저가 맞춘 글자와 남은 글자의 위치\n",
    "2. 현재까지 유저가 틀린 글자의 개수\n",
    "3. 안내 문구\n",
    "\n",
    "\n",
    "- 예시)\n",
    "```bash\n",
    "You are guessing: ___ ____\n",
    "You have guessed (0) wrong letters:\n",
    "Guess a letter:\n",
    "```"
   ]
  },
  {
   "cell_type": "markdown",
   "id": "outdoor-france",
   "metadata": {},
   "source": [
    "### 게임 내용\n",
    "\n",
    "> 우리 행맨 게임의 주제는 \"영화\"입니다.\n",
    "\n",
    "**1. 게임이 시작되면 아래 주어진 영화 리스트에서 임의로 1개의 영화를 선택합니다.**\n",
    "\n",
    "- 영화 리스트)\n",
    "```\n",
    "the shawshank redemption\n",
    "the godfather\n",
    "the dark knight\n",
    "schindler's list\n",
    "pulp fiction\n",
    "the lord of the rings\n",
    "the good the bad and the ugly\n",
    "fight club\n",
    "the lord of the rings\n",
    "forrest gump\n",
    "```\n",
    "\n",
    "**2. 사용자가 알파벳을 입력하면, 해당 알파벳이 단어에 포함되어 있는지를 판별하고 알파벳이 들어있을 경우 해당하는 \"모든 알파벳\"을 표시합니다.**\n",
    "\n",
    "- 예시)\n",
    "```bash\n",
    "You are guessing: ___ ____\n",
    "You have guessed (0) wrong letters:\n",
    "Guess a letter: d\n",
    "You are guessing: d__ ___d\n",
    "You have guessed (0) wrong letters:\n",
    "Guess a letter:\n",
    "```\n",
    "\n",
    "**3. 만약 사용자가 입력한 알파벳이 단어에 포함되어있지 않은 경우, 아래와 같이 틀린 알파벳이 무엇인지 출력합니다.**\n",
    "\n",
    "- 예시)\n",
    "```bash\n",
    "You are guessing: ___ ____\n",
    "You have guessed (0) wrong letters:\n",
    "Guess a letter: d\n",
    "You are guessing: d__ ___d\n",
    "You have guessed (0) wrong letters:\n",
    "Guess a letter: f\n",
    "You are guessing: d__ ___d\n",
    "You have guessed (1) wrong letters: f\n",
    "Guess a letter:\n",
    "```\n",
    "\n",
    "**4. 사용자가 단어를 맞출 때까지 게임은 계속되며, 단어를 맞출 경우 게임이 종료됩니다.**\n",
    "\n",
    "- 예시)\n",
    "```bash\n",
    "You are guessing: die ___d\n",
    "You have guessed (2) wrong letters: f z\n",
    "Guess a letter: h\n",
    "You are guessing: die h__d\n",
    "You have guessed (2) wrong letters: f z\n",
    "Guess a letter: a\n",
    "You are guessing: die ha__d\n",
    "You have guessed (2) wrong letters: f z\n",
    "Guess a letter: r\n",
    "You win!\n",
    "You have guessed 'die hard' correctly.\n",
    "```"
   ]
  },
  {
   "cell_type": "code",
   "execution_count": 3,
   "id": "patent-pavilion",
   "metadata": {},
   "outputs": [],
   "source": [
    "# 여기에 코드를 작성하세요."
   ]
  },
  {
   "cell_type": "markdown",
   "id": "alternative-homework",
   "metadata": {},
   "source": [
    "## 에러 핸들링 및 추가 요구사항\n",
    "\n",
    "기본 요구사항을 모두 구현했다면 아래의 예외 상황에 대한 처리를 해보세요.\n",
    "\n",
    "1. 알파벳 입력 기회 제한 (기본 15회)\n",
    "2. 입력값 에러 핸들링\n",
    "- 입력 값이 없을 경우\n",
    "- 같은 값을 입력했을 경우\n",
    "- 유효하지 않은 값(알파벳 제외)을 입력했을 경우"
   ]
  },
  {
   "cell_type": "code",
   "execution_count": null,
   "id": "operating-audit",
   "metadata": {},
   "outputs": [],
   "source": [
    "# 여기에 코드를 작성하세요."
   ]
  }
 ],
 "metadata": {
  "kernelspec": {
   "display_name": "Python 3 (ipykernel)",
   "language": "python",
   "name": "python3"
  },
  "language_info": {
   "codemirror_mode": {
    "name": "ipython",
    "version": 3
   },
   "file_extension": ".py",
   "mimetype": "text/x-python",
   "name": "python",
   "nbconvert_exporter": "python",
   "pygments_lexer": "ipython3",
   "version": "3.9.9"
  },
  "toc": {
   "base_numbering": 1,
   "nav_menu": {},
   "number_sections": true,
   "sideBar": true,
   "skip_h1_title": false,
   "title_cell": "Table of Contents",
   "title_sidebar": "Contents",
   "toc_cell": false,
   "toc_position": {},
   "toc_section_display": true,
   "toc_window_display": false
  }
 },
 "nbformat": 4,
 "nbformat_minor": 5
}
